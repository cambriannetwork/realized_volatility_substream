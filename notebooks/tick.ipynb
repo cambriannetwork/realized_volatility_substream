{
 "cells": [
  {
   "cell_type": "markdown",
   "metadata": {},
   "source": [
    "There is a a way to get the SqrtPriceX96 from the tick and vice-versa:\n",
    "\n",
    "\\begin{align*}\n",
    "P &= 1.0001^{\\text{tick}} \\\\\n",
    "\\sqrt{P} &= 1.0001^{\\frac{\\text{tick}}{2}} = \\left(1.0001^{\\text{tick}}\\right)^{\\frac{1}{2}} \\\\\n",
    "\\log_{\\sqrt{1.0001}}\\left(\\sqrt{P}\\right) &= \\text{tick}\n",
    "\\end{align*}\n",
    "\n",
    "\n",
    "Tick to SqrtPriceX96:\n",
    "\n",
    "\n",
    "$$\\sqrt{1.0001}^{\\text{tick}} \\times Q96 = \\sqrt{P} \\times Q96 = \\text{sqrtPriceX96}$$\n",
    "\n",
    "\n",
    "SqrtPriceX96 to Tick:\n",
    "\n",
    "$$ \\sqrt{P}  =  \\frac{sqrtPriceX96}{Q96}  $$\n",
    "\n",
    "\n",
    "$$ \n",
    "\n",
    "\\begin{align*}\n",
    "\\log_{\\sqrt{1.0001}}\\left(\\frac{sqrtPriceX96}{Q96}\\right) &= \\text{tick}\n",
    "\\end{align*}\n",
    "$$\n",
    "\n"
   ]
  },
  {
   "cell_type": "code",
   "execution_count": 4,
   "metadata": {},
   "outputs": [
    {
     "data": {
      "text/plain": [
       "204632"
      ]
     },
     "execution_count": 4,
     "metadata": {},
     "output_type": "execute_result"
    }
   ],
   "source": [
    "import math\n",
    "\n",
    "Q96 = 2 ** 96\n",
    "\n",
    "def tick_to_sqrt_price_x_96(tick):\n",
    "    return int(1.0001 ** (tick / 2) * Q96)\n",
    "\n",
    "def sqrt_price_x_96_to_tick(sqrt_price_x_96):\n",
    "    base = math.sqrt(1.0001)\n",
    "    p = sqrt_price_x_96 / Q96\n",
    "    return math.floor(math.log(p, base))\n",
    "\n",
    "tick = 204632\n",
    "\n",
    "tick_to_sqrt_price_x_96(tick)\n",
    "\n",
    "sqrt_price_x_96 = 2198835844819193856025769912483279\n",
    "sqrt_price_x_96_to_tick(sqrt_price_x_96)\n"
   ]
  },
  {
   "cell_type": "markdown",
   "metadata": {},
   "source": [
    "We can see it works by using sample data of the substream:"
   ]
  },
  {
   "cell_type": "code",
   "execution_count": 7,
   "metadata": {},
   "outputs": [
    {
     "data": {
      "text/plain": [
       "197293"
      ]
     },
     "execution_count": 7,
     "metadata": {},
     "output_type": "execute_result"
    }
   ],
   "source": [
    "sqrtPicex96 = 1523469420953906108383481136475199\n",
    "# the outputted value of the tick on the vent\n",
    "tick = 197293\n",
    "\n",
    "sqrt_price_x_96_to_tick(sqrtPicex96)\n"
   ]
  },
  {
   "cell_type": "code",
   "execution_count": null,
   "metadata": {},
   "outputs": [],
   "source": []
  }
 ],
 "metadata": {
  "kernelspec": {
   "display_name": "Python 3",
   "language": "python",
   "name": "python3"
  },
  "language_info": {
   "codemirror_mode": {
    "name": "ipython",
    "version": 3
   },
   "file_extension": ".py",
   "mimetype": "text/x-python",
   "name": "python",
   "nbconvert_exporter": "python",
   "pygments_lexer": "ipython3",
   "version": "3.10.12"
  }
 },
 "nbformat": 4,
 "nbformat_minor": 2
}
